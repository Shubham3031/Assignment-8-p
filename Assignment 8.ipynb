{
 "cells": [
  {
   "cell_type": "code",
   "execution_count": 3,
   "id": "ed0a0aa7-728f-485e-825a-54f61547e825",
   "metadata": {},
   "outputs": [
    {
     "name": "stdout",
     "output_type": "stream",
     "text": [
      "231\n"
     ]
    }
   ],
   "source": [
    "# 1.Ans.\n",
    "\n",
    "def lowestAscii(s1,s2):\n",
    "    a,b = len(s1),len(s2)\n",
    "    sm = [[0]*(b+1) for _ in range(a+1)]\n",
    "    \n",
    "    for i in range(1,a+1):\n",
    "        for j in range(1,b+1):\n",
    "            if s1[i-1]==s2[j-1]:\n",
    "                sm[i][j]=sm[i-1][j-1]+ord(s1[i-1])\n",
    "            else:\n",
    "                sm[i][j]=max(sm[i-1][j],sm[i][j-1])\n",
    "    return sum(ord(c) for c in s1)+sum(ord(c) for c in s2)-2*sm[a][b]\n",
    "\n",
    "s1 = \"sea\" \n",
    "s2 = \"eat\"\n",
    "\n",
    "print(lowestAscii(s1,s2))\n",
    "            \n",
    "    "
   ]
  },
  {
   "cell_type": "code",
   "execution_count": 4,
   "id": "59dd1da5-7697-4471-bd96-8c9c6172c81a",
   "metadata": {},
   "outputs": [
    {
     "name": "stdout",
     "output_type": "stream",
     "text": [
      "True\n"
     ]
    }
   ],
   "source": [
    "# 2.Ans.\n",
    "\n",
    "def isValid(s):\n",
    "    stack = []\n",
    "\n",
    "    for c in s:\n",
    "        if c == '(' or c == '*':\n",
    "            stack.append(c)\n",
    "        elif c == ')':\n",
    "            if stack and (stack[-1] == '(' or stack[-1] == '*'):\n",
    "                stack.pop()\n",
    "            else:\n",
    "                return False\n",
    "\n",
    "    while stack:\n",
    "        if stack[-1] == '(' and stack.count('*') > 0:\n",
    "            stack.pop()\n",
    "            stack.pop()\n",
    "        else:\n",
    "            break\n",
    "\n",
    "    return len(stack) == 0\n",
    "s = \"()\"\n",
    "print(isValid(s))"
   ]
  },
  {
   "cell_type": "code",
   "execution_count": 5,
   "id": "c336240e-512f-463b-ab94-6c8d5143a5a6",
   "metadata": {},
   "outputs": [
    {
     "name": "stdout",
     "output_type": "stream",
     "text": [
      "2\n"
     ]
    }
   ],
   "source": [
    "# 3.Ans.\n",
    "\n",
    "def minSteps(word1, word2):\n",
    "    m, n = len(word1), len(word2)\n",
    "    dp = [[0] * (n + 1) for _ in range(m + 1)]\n",
    "\n",
    "    for i in range(1, m + 1):\n",
    "        dp[i][0] = i\n",
    "\n",
    "    for j in range(1, n + 1):\n",
    "        dp[0][j] = j\n",
    "\n",
    "    for i in range(1, m + 1):\n",
    "        for j in range(1, n + 1):\n",
    "            if word1[i-1] == word2[j-1]:\n",
    "                dp[i][j] = dp[i-1][j-1]\n",
    "            else:\n",
    "                dp[i][j] = min(dp[i-1][j], dp[i][j-1]) + 1\n",
    "\n",
    "    return dp[m][n]\n",
    "word1 = \"sea\"\n",
    "word2 = \"eat\"\n",
    "\n",
    "print(minSteps(word1,word2))\n",
    "\n"
   ]
  },
  {
   "cell_type": "code",
   "execution_count": 5,
   "id": "51e76c88-214c-4cb2-b177-f879c1997637",
   "metadata": {},
   "outputs": [
    {
     "name": "stdout",
     "output_type": "stream",
     "text": [
      "4,2,6,3,1,5\n"
     ]
    }
   ],
   "source": [
    "# 4.Ans.\n",
    "def construct_binary_tree(s):\n",
    "    \n",
    "    s = s.strip()\n",
    "\n",
    "    \n",
    "    if not s:\n",
    "        return None\n",
    "\n",
    "    \n",
    "    idx = s.find('(')\n",
    "\n",
    "    \n",
    "    if idx == -1:\n",
    "        return TreeNode(int(s))\n",
    "\n",
    "\n",
    "    root = TreeNode(int(s[:idx]))\n",
    "\n",
    "    \n",
    "    count = 0\n",
    "    for i in range(idx, len(s)):\n",
    "        if s[i] == '(':\n",
    "            count += 1\n",
    "        elif s[i] == ')':\n",
    "            count -= 1\n",
    "\n",
    "        if count == 0:\n",
    "            break\n",
    "\n",
    "    \n",
    "    if idx + 1 < i:\n",
    "        root.left = construct_binary_tree(s[idx + 1:i])\n",
    "\n",
    "    \n",
    "    if i + 1 < len(s) - 1:\n",
    "        root.right = construct_binary_tree(s[i + 2:len(s) - 1])\n",
    "\n",
    "    return root\n",
    "\n",
    "\n",
    "def tree_to_string(root):\n",
    "    if not root:\n",
    "        return \"\"\n",
    "\n",
    "    result = []\n",
    "    queue = [root]\n",
    "\n",
    "    while queue:\n",
    "        node = queue.pop(0)\n",
    "        if node:\n",
    "            result.append(str(node.val))\n",
    "            queue.append(node.left)\n",
    "            queue.append(node.right)\n",
    "        else:\n",
    "            result.append(\"null\")\n",
    "\n",
    "    \n",
    "    while result and result[-1] == \"null\":\n",
    "        result.pop()\n",
    "\n",
    "    return \",\".join(result)\n",
    "tree_string = \"4(2(3)(1))(6(5))\"\n",
    "root = construct_binary_tree(tree_string)\n",
    "tree_str = tree_to_string(root)\n",
    "print(tree_str)\n"
   ]
  },
  {
   "cell_type": "code",
   "execution_count": 8,
   "id": "cb393afd-4dc8-456a-aad9-345a99442dc6",
   "metadata": {},
   "outputs": [
    {
     "name": "stdout",
     "output_type": "stream",
     "text": [
      "6\n",
      "['a', '2', 'b', '2', 'c', '3']\n"
     ]
    }
   ],
   "source": [
    "# 5.Ans.\n",
    "\n",
    "def compressed(chars):\n",
    "    write_idx = 0\n",
    "    count = 1\n",
    "    n = len(chars)\n",
    "\n",
    "    for i in range(1, n):\n",
    "        if chars[i] == chars[i-1]:\n",
    "            count += 1\n",
    "        else:\n",
    "            chars[write_idx] = chars[i-1]\n",
    "            write_idx += 1\n",
    "\n",
    "            if count > 1:\n",
    "                count_str = str(count)\n",
    "                for digit in count_str:\n",
    "                    chars[write_idx] = digit\n",
    "                    write_idx += 1\n",
    "\n",
    "            count = 1\n",
    "\n",
    "    chars[write_idx] = chars[n-1]\n",
    "    write_idx += 1\n",
    "\n",
    "    if count > 1:\n",
    "        count_str = str(count)\n",
    "        for digit in count_str:\n",
    "            chars[write_idx] = digit\n",
    "            write_idx += 1\n",
    "\n",
    "    return write_idx\n",
    "\n",
    "chars = ['a', 'a', 'b', 'b', 'c', 'c', 'c']\n",
    "new_length = compressed(chars)\n",
    "print(new_length) \n",
    "print(chars[:new_length]) \n",
    "\n",
    "\n",
    "\n"
   ]
  },
  {
   "cell_type": "code",
   "execution_count": 9,
   "id": "c16164f2-8363-4a1b-8288-3bf5556f564c",
   "metadata": {},
   "outputs": [
    {
     "name": "stdout",
     "output_type": "stream",
     "text": [
      "[0, 6]\n"
     ]
    }
   ],
   "source": [
    "# 6.Ans.\n",
    "\n",
    "from collections import Counter\n",
    "\n",
    "def findAnagrams(s, p):\n",
    "    freq_p = [0] * 26\n",
    "    freq_s = [0] * 26\n",
    "\n",
    "    for ch in p:\n",
    "        freq_p[ord(ch) - ord('a')] += 1\n",
    "\n",
    "    result = []\n",
    "    left, right = 0, 0\n",
    "\n",
    "    while right < len(s):\n",
    "        freq_s[ord(s[right]) - ord('a')] += 1\n",
    "\n",
    "        if right - left + 1 > len(p):\n",
    "            freq_s[ord(s[left]) - ord('a')] -= 1\n",
    "            left += 1\n",
    "\n",
    "        if freq_s == freq_p:\n",
    "            result.append(left)\n",
    "\n",
    "        right += 1\n",
    "\n",
    "    return result\n",
    "s = \"cbaebabacd\"\n",
    "p = \"abc\"\n",
    "print(findAnagrams(s, p))  \n",
    "\n",
    "\n"
   ]
  },
  {
   "cell_type": "code",
   "execution_count": 12,
   "id": "f99c443a-8474-475b-949b-0b4197c49c22",
   "metadata": {},
   "outputs": [
    {
     "name": "stdout",
     "output_type": "stream",
     "text": [
      "aaabcbc\n"
     ]
    }
   ],
   "source": [
    "# 7.Ans.\n",
    "\n",
    "def decodeString(s):\n",
    "    stack = []\n",
    "    current_string = \"\"\n",
    "    current_count = 0\n",
    "\n",
    "    for ch in s:\n",
    "        if ch.isdigit():\n",
    "            current_count = current_count * 10 + int(ch)\n",
    "        elif ch == '[':\n",
    "            stack.append(current_string)\n",
    "            stack.append(current_count)\n",
    "            current_string = \"\"\n",
    "            current_count = 0\n",
    "        elif ch == ']':\n",
    "            count = stack.pop()\n",
    "            prev_string = stack.pop()\n",
    "            current_string = prev_string + current_string * count\n",
    "        else:\n",
    "            current_string += ch\n",
    "\n",
    "    return current_string\n",
    "s =  \"3[a]2[bc]\"\n",
    "print(decodeString(s)) \n",
    "\n"
   ]
  },
  {
   "cell_type": "code",
   "execution_count": 14,
   "id": "c5c33d78-a92c-4c61-b397-4ef1544966cb",
   "metadata": {},
   "outputs": [
    {
     "name": "stdout",
     "output_type": "stream",
     "text": [
      "True\n"
     ]
    }
   ],
   "source": [
    "# 8.Ans.\n",
    "\n",
    "def goalStrings(s, goal):\n",
    "    if len(s) != len(goal):\n",
    "        return False\n",
    "\n",
    "    if s == goal:\n",
    "        return len(set(s)) < len(s)\n",
    "\n",
    "    diff_indices = []\n",
    "    diff_chars = []\n",
    "\n",
    "    for i, (ch, goal_ch) in enumerate(zip(s, goal)):\n",
    "        if ch != goal_ch:\n",
    "            diff_indices.append(i)\n",
    "            diff_chars.append(ch)\n",
    "\n",
    "        if len(diff_indices) > 2:\n",
    "            return False\n",
    "\n",
    "    if len(diff_indices) == 0:\n",
    "        return False\n",
    "\n",
    "    if len(diff_indices) == 2:\n",
    "        i, j = diff_indices\n",
    "        return s[i] == goal[j] and s[j] == goal[i]\n",
    "\n",
    "    return False\n",
    "\n",
    "s= \"ab\"\n",
    "goal = \"ba\"\n",
    "print(goalStrings(s, goal)) \n"
   ]
  },
  {
   "cell_type": "code",
   "execution_count": null,
   "id": "900bd1b6-c75e-4ffa-8362-a3e7f3d8934a",
   "metadata": {},
   "outputs": [],
   "source": []
  }
 ],
 "metadata": {
  "kernelspec": {
   "display_name": "Python 3 (ipykernel)",
   "language": "python",
   "name": "python3"
  },
  "language_info": {
   "codemirror_mode": {
    "name": "ipython",
    "version": 3
   },
   "file_extension": ".py",
   "mimetype": "text/x-python",
   "name": "python",
   "nbconvert_exporter": "python",
   "pygments_lexer": "ipython3",
   "version": "3.10.6"
  }
 },
 "nbformat": 4,
 "nbformat_minor": 5
}
